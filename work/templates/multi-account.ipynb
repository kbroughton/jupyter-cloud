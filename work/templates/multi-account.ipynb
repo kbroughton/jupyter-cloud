{
 "cells": [
  {
   "cell_type": "code",
   "execution_count": null,
   "metadata": {},
   "outputs": [],
   "source": [
    "import glob\n",
    "import json\n",
    "import os"
   ]
  },
  {
   "cell_type": "code",
   "execution_count": null,
   "metadata": {},
   "outputs": [],
   "source": [
    "ls data"
   ]
  },
  {
   "cell_type": "code",
   "execution_count": null,
   "metadata": {},
   "outputs": [],
   "source": [
    "scout_data_dir = 'data'\n"
   ]
  },
  {
   "cell_type": "code",
   "execution_count": null,
   "metadata": {},
   "outputs": [],
   "source": [
    "result_files = glob.glob('data/scoutsuite_results*.js')\n",
    "result_files"
   ]
  },
  {
   "cell_type": "code",
   "execution_count": null,
   "metadata": {},
   "outputs": [],
   "source": [
    "def load_results(scout_data_dir):\n",
    "    scout_data = {}\n",
    "    result_files = glob.glob('data/scoutsuite_results*.js')\n",
    "    for result_file in result_files:\n",
    "        account_alias = result_file.split('.')[0].split('_')[-1].split('-',1)[1]\n",
    "        with open(result_file, 'r') as f:\n",
    "            # remove the first line 'scout_results =' of .js file\n",
    "            data = [line.rstrip('\\n') for line in f.readlines()[1:]]\n",
    "            scout_data[account_alias] = json.loads(\"\".join(data))\n",
    "    return scout_data\n",
    "\n",
    "scout_data = load_results(scout_data_dir)\n",
    "print(scout_data.keys())\n",
    "print([scout_data[alias]['account_id'] for alias in scout_data.keys()])\n"
   ]
  },
  {
   "cell_type": "code",
   "execution_count": null,
   "metadata": {},
   "outputs": [],
   "source": [
    "first_account = scout_data[list(scout_data.keys())[0]]\n",
    "first_account['service_list']"
   ]
  },
  {
   "cell_type": "code",
   "execution_count": null,
   "metadata": {},
   "outputs": [],
   "source": [
    "first_account.keys()"
   ]
  },
  {
   "cell_type": "code",
   "execution_count": null,
   "metadata": {},
   "outputs": [],
   "source": [
    "first_account['account_id']"
   ]
  },
  {
   "cell_type": "code",
   "execution_count": null,
   "metadata": {},
   "outputs": [],
   "source": [
    "first_account['metadata']"
   ]
  },
  {
   "cell_type": "code",
   "execution_count": null,
   "metadata": {},
   "outputs": [],
   "source": [
    "first_account['services']['iam'].keys()"
   ]
  },
  {
   "cell_type": "code",
   "execution_count": null,
   "metadata": {},
   "outputs": [],
   "source": [
    "first_account['services']['iam']['findings']"
   ]
  },
  {
   "cell_type": "code",
   "execution_count": null,
   "metadata": {},
   "outputs": [],
   "source": [
    "service = first_account['services']['iam']\n",
    "for finding_name, finding_data in service['findings'].items():\n",
    "    print(finding_name)\n",
    "    for item in finding_data['items'][0:2]:\n",
    "        svc,obj,name,*rest = item.split('.')\n",
    "        print(name)\n",
    "        break"
   ]
  },
  {
   "cell_type": "code",
   "execution_count": null,
   "metadata": {},
   "outputs": [],
   "source": [
    "first_account['services']['iam']['findings']['iam-assume-role-lacks-external-id-and-mfa']"
   ]
  },
  {
   "cell_type": "code",
   "execution_count": null,
   "metadata": {},
   "outputs": [],
   "source": [
    "%pdb\n",
    "from collections import defaultdict\n",
    "import pandas as pd\n",
    "\n",
    "def print_findings(scout_data, services=[], account_aliases=[], output='csv'):\n",
    "    '''\n",
    "    Print findings across all accounts with opinionated formatting.\n",
    "    @scout_data: dict with keys of account_aliases\n",
    "    @account_aliases: account_alias matching --profile in ScoutSuite run. If present, only print this data\n",
    "    @output: None -> print to stdout, csv -> comma separated, xls -> excel\n",
    "    '''\n",
    "    # finding_data is the same data, but key-walk inverted so the leafs are the stems of the data path\n",
    "    # using solution that allows mkdir -p behavior for d['path']['to']['data']\n",
    "    # https://stackoverflow.com/questions/60808884/python-to-create-dict-keys-path-similarly-to-mkdir-p\n",
    "    frame = pd.DataFrame(columns=['Account', 'Finding', 'Resource'])\n",
    "    findings = {} #defaultdict(lambda: defaultdict(lambda: defaultdict(dict)))\n",
    "\n",
    "    service_display_map = {'iam': 3, 'cloudtrail': 5}\n",
    "    for alias, data in scout_data.items():\n",
    "        account_id = data['account_id']\n",
    "        if account_aliases and alias not in account_aliases:\n",
    "            continue\n",
    "        for service_name, service_data in data['services'].items():\n",
    "            if services and service_name not in services:\n",
    "                continue\n",
    "            for finding_name, finding_data in service_data['findings'].items():\n",
    "                if 'snapshot' in finding_name:\n",
    "                    continue\n",
    "                if finding_name not in findings:\n",
    "                    findings[finding_name] = {}\n",
    "                if finding_name in findings and not alias in findings[finding_name]:\n",
    "                    findings[finding_name][alias] = {}\n",
    "                checked_items = finding_data['checked_items']\n",
    "                flagged_items = []\n",
    "                #print(\"finding_data.keys()\", finding_data.keys())\n",
    "                if 'display_path' in finding_data:\n",
    "                    display_path_depth = len(finding_data['display_path'].split('.'))\n",
    "                elif 'path' in finding_data:\n",
    "                    display_path_depth = len(finding_data['path'].split('.'))\n",
    "                else:\n",
    "                    display_path_depth = service_display_map.get(service_name, 0)\n",
    "                for item in finding_data['items']:\n",
    "                    # eg. iam, roles, AROA..., assume_role_policy, PolicyDocument, Statement, 0\n",
    "                    parts = item.split('.')\n",
    "                    display_value = ''\n",
    "                    try:\n",
    "                        def path_get(data, path_parts):\n",
    "                            temp = data\n",
    "                            for part in path_parts:\n",
    "                                if part not in temp:\n",
    "                                    print(f'ERROR: path element {part} not in {temp}')\n",
    "                                    print('finding_data', finding_data)\n",
    "                                    print(f'no display_path in {finding_name} setting display_path_depth to {display_path_depth}\\n')\n",
    "                                    return \"\"\n",
    "                                temp = temp[part]\n",
    "                            return temp['name']\n",
    "\n",
    "                        display_value = path_get(service_data, parts[1:display_path_depth])\n",
    "                        flagged_items.append(display_value)\n",
    "                        frame.append([account_id, finding_name, display_value])\n",
    "                    except Exception as e:\n",
    "                        print(e)\n",
    "                        print(finding_name)\n",
    "                        print(item)\n",
    "                        print('parts', parts)\n",
    "                        print('display_path_depth', display_path_depth)\n",
    "                        print(f\"{display_value} not in {service_data[parts[1]].keys()}\".format())\n",
    "                        break\n",
    "                    # regions duplicate some findings, deduplicate with list(set())\n",
    "                    findings[finding_name][alias]['flagged_items'] = list(set(flagged_items))\n",
    "                    findings[finding_name][alias]['checked_items'] = checked_items\n",
    "           \n",
    "    print(\"\\n***********************\\n\")\n",
    "    for finding_name, finding_data in findings.items():\n",
    "        print(finding_name, '\\n')\n",
    "        for alias, account_data in finding_data.items():\n",
    "            flagged_items = account_data.get('flagged_items', [])\n",
    "            checked_items = account_data.get('checked_items', 0)\n",
    "            if len(flagged_items) > 0:\n",
    "                print(f\"**{alias}**\", \"{} of {} failed\\n\".format(len(flagged_items), checked_items))\n",
    "                print(\" \\\\\\n\".join(flagged_items))\n",
    "                print(\"\\n\")\n",
    "    return frame"
   ]
  },
  {
   "cell_type": "code",
   "execution_count": null,
   "metadata": {},
   "outputs": [],
   "source": [
    "groupings = {\n",
    "    'aws_security_groups_allow_all_traffic_to_sensitive_ports': {\n",
    "        'ec2': ['ec2-security-group-opens-DNS-port-to-all', \n",
    "                'ec2-security-group-opens-MongoDB-port-to-all', \n",
    "                'ec2-security-group-opens-MsSQL-port-to-all', \n",
    "                'ec2-security-group-opens-MySQL-port-to-all', \n",
    "                'ec2-security-group-opens-NFS-port-to-all', \n",
    "                'ec2-security-group-opens-Oracle DB-port-to-all', \n",
    "                'ec2-security-group-opens-PostgreSQL-port-to-all', \n",
    "                'ec2-security-group-opens-RDP-port-to-all', \n",
    "                'ec2-security-group-opens-SMTP-port-to-all', \n",
    "                'ec2-security-group-opens-SSH-port-to-all', \n",
    "                'ec2-security-group-opens-TCP-port-to-all', \n",
    "                'ec2-security-group-opens-UDP-port-to-all', \n",
    "                'ec2-security-group-opens-all-ports', \n",
    "                'ec2-security-group-opens-all-ports-to-all', \n",
    "                'ec2-security-group-opens-all-ports-to-self', \n",
    "                'ec2-security-group-opens-icmp-to-all', \n",
    "                'ec2-security-group-opens-plaintext-port-FTP', \n",
    "                'ec2-security-group-opens-plaintext-port-Telnet']},\n",
    "    'aws_elb_traffic_encryption_not_enforced': {\n",
    "        'elbv2': ['elb-listener-allowing-cleartext'],\n",
    "        'elb': ['elbv2-listener-allowing-cleartext']}\n",
    "}"
   ]
  },
  {
   "cell_type": "markdown",
   "metadata": {},
   "source": [
    "Once we have ironed out all the bugs, we can simply apply the desired groupings mapped to VKB templates and auto\n",
    "populate the finding. For now, we print findings service by service."
   ]
  },
  {
   "cell_type": "code",
   "execution_count": null,
   "metadata": {},
   "outputs": [],
   "source": []
  },
  {
   "cell_type": "code",
   "execution_count": null,
   "metadata": {},
   "outputs": [],
   "source": [
    "print_findings(scout_data, services = ['ec2'])"
   ]
  },
  {
   "cell_type": "code",
   "execution_count": null,
   "metadata": {},
   "outputs": [],
   "source": [
    "print_findings(scout_data, services = ['iam']) #, account_aliases=['DF01','DF13'])"
   ]
  },
  {
   "cell_type": "code",
   "execution_count": null,
   "metadata": {},
   "outputs": [],
   "source": []
  },
  {
   "cell_type": "code",
   "execution_count": null,
   "metadata": {},
   "outputs": [],
   "source": [
    "print_findings(scout_data, services = ['cloudtrail'])"
   ]
  },
  {
   "cell_type": "code",
   "execution_count": null,
   "metadata": {},
   "outputs": [],
   "source": [
    "print_findings(scout_data, services = ['elb'])"
   ]
  },
  {
   "cell_type": "code",
   "execution_count": null,
   "metadata": {},
   "outputs": [],
   "source": [
    "print_findings(scout_data, services = ['elbv2'])"
   ]
  },
  {
   "cell_type": "code",
   "execution_count": null,
   "metadata": {},
   "outputs": [],
   "source": [
    "print_findings(scout_data, services = ['ec2'])"
   ]
  },
  {
   "cell_type": "code",
   "execution_count": null,
   "metadata": {},
   "outputs": [],
   "source": [
    "scout_data['DF01']['services']['s3']['findings'].keys()"
   ]
  },
  {
   "cell_type": "code",
   "execution_count": null,
   "metadata": {},
   "outputs": [],
   "source": [
    "print_findings(scout_data, services = ['s3'])"
   ]
  },
  {
   "cell_type": "code",
   "execution_count": null,
   "metadata": {},
   "outputs": [],
   "source": [
    "scout_data['DF01']['services']['ec2']['findings'].keys()"
   ]
  },
  {
   "cell_type": "code",
   "execution_count": null,
   "metadata": {},
   "outputs": [],
   "source": [
    "scout_data['DF01']['services']['ec2']['findings']['ec2-security-group-whitelists-aws']"
   ]
  },
  {
   "cell_type": "code",
   "execution_count": null,
   "metadata": {},
   "outputs": [],
   "source": [
    "scout_data['DF01']['services']['elb']['findings']['elb-listener-allowing-cleartext']"
   ]
  },
  {
   "cell_type": "code",
   "execution_count": null,
   "metadata": {},
   "outputs": [],
   "source": [
    "scout_data['DF01']['services']['ec2']['findings']['ec2-instance-with-user-data-secrets']"
   ]
  },
  {
   "cell_type": "code",
   "execution_count": null,
   "metadata": {},
   "outputs": [],
   "source": [
    "scout_data['DF01']['services']['iam']['findings']['iam-inline-role-policy-allows-sts-AssumeRole']"
   ]
  },
  {
   "cell_type": "code",
   "execution_count": null,
   "metadata": {},
   "outputs": [],
   "source": [
    "service.keys()"
   ]
  },
  {
   "cell_type": "code",
   "execution_count": null,
   "metadata": {},
   "outputs": [],
   "source": [
    "service['findings']['iam-assume-role-lacks-external-id-and-mfa'].keys()"
   ]
  },
  {
   "cell_type": "code",
   "execution_count": null,
   "metadata": {},
   "outputs": [],
   "source": [
    "item = service['findings']['password-policy-expiration-threshold']['items'][0]\n",
    "item"
   ]
  },
  {
   "cell_type": "code",
   "execution_count": null,
   "metadata": {},
   "outputs": [],
   "source": [
    "svc,service_entity,name,*rest = item.split('.')\n",
    "name"
   ]
  },
  {
   "cell_type": "code",
   "execution_count": null,
   "metadata": {},
   "outputs": [],
   "source": [
    "service['roles'][name]"
   ]
  },
  {
   "cell_type": "code",
   "execution_count": null,
   "metadata": {},
   "outputs": [],
   "source": [
    "scout_data.keys()"
   ]
  },
  {
   "cell_type": "code",
   "execution_count": null,
   "metadata": {},
   "outputs": [],
   "source": [
    "scout_data['DF13']['services']['cloudtrail'].keys()"
   ]
  },
  {
   "cell_type": "code",
   "execution_count": null,
   "metadata": {},
   "outputs": [],
   "source": [
    "scout_data['DF13']['services']['cloudtrail']['regions']['us-east-1']['trails']"
   ]
  },
  {
   "cell_type": "code",
   "execution_count": null,
   "metadata": {},
   "outputs": [],
   "source": [
    "scout_data['DF13']['services']['cloudtrail']['findings']['cloudtrail-no-encryption-with-kms']"
   ]
  },
  {
   "cell_type": "code",
   "execution_count": null,
   "metadata": {},
   "outputs": [],
   "source": [
    "first_account['services']['cloudtrail']['findings']['cloudtrail-no-encryption-with-kms']"
   ]
  },
  {
   "cell_type": "code",
   "execution_count": null,
   "metadata": {},
   "outputs": [],
   "source": [
    "def path_get(data, path_parts):\n",
    "    temp = data\n",
    "    for part in path_parts:\n",
    "        temp = temp[part]\n",
    "    return temp"
   ]
  },
  {
   "cell_type": "code",
   "execution_count": null,
   "metadata": {},
   "outputs": [],
   "source": [
    "path_get(scout_data, ['DF13','services','iam', 'findings', 'iam-assume-role-lacks-external-id-and-mfa'])"
   ]
  },
  {
   "cell_type": "code",
   "execution_count": null,
   "metadata": {},
   "outputs": [],
   "source": [
    "scout_data['DF13']['services']['iam']['findings']['iam-assume-role-lacks-external-id-and-mfa'].keys()"
   ]
  },
  {
   "cell_type": "code",
   "execution_count": null,
   "metadata": {},
   "outputs": [],
   "source": [
    "svc,service_entity,name,*rest = item.split('.')\n",
    "                    try:\n",
    "                        flagged_items.append(service_data[service_entity][name]['arn'])"
   ]
  },
  {
   "cell_type": "markdown",
   "metadata": {},
   "source": [
    "**Nmap filtering**\n"
   ]
  },
  {
   "cell_type": "code",
   "execution_count": null,
   "metadata": {},
   "outputs": [],
   "source": []
  },
  {
   "cell_type": "code",
   "execution_count": null,
   "metadata": {
    "scrolled": true
   },
   "outputs": [],
   "source": [
    "nmap = nmap.replace('\\\\', '')\n",
    "for line in nmap.split('\\n'):\n",
    "    if line.startswith('**'):\n",
    "        account = line #.strip('**')\n",
    "        print('\\n')\n",
    "        print(account, '\\n')\n",
    "    elif line.startswith('Host:'):\n",
    "        host = line.lstrip('Host: ').rstrip('\\\\').strip()\n",
    "        print(host)\n",
    "    elif line.startswith('Ports: '):\n",
    "        ports = line.lstrip('Ports: ').strip('\\\\').strip().split(',')\n",
    "        open_ports = [port.lstrip('Ports:').replace('/open', '').rstrip('/').strip() for port in ports if 'open' in port]\n",
    "        print(open_ports)\n",
    "        "
   ]
  },
  {
   "cell_type": "code",
   "execution_count": null,
   "metadata": {},
   "outputs": [],
   "source": [
    "nmap"
   ]
  },
  {
   "cell_type": "code",
   "execution_count": null,
   "metadata": {},
   "outputs": [],
   "source": []
  }
 ],
 "metadata": {
  "kernelspec": {
   "display_name": "Python 3",
   "language": "python",
   "name": "python3"
  },
  "language_info": {
   "codemirror_mode": {
    "name": "ipython",
    "version": 3
   },
   "file_extension": ".py",
   "mimetype": "text/x-python",
   "name": "python",
   "nbconvert_exporter": "python",
   "pygments_lexer": "ipython3",
   "version": "3.8.3"
  }
 },
 "nbformat": 4,
 "nbformat_minor": 4
}
